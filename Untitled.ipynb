{
 "cells": [
  {
   "cell_type": "code",
   "execution_count": 15,
   "metadata": {},
   "outputs": [
    {
     "name": "stdout",
     "output_type": "stream",
     "text": [
      "X Speed : 3.0715999999999997\n",
      "Y Speed : 0.0\n",
      "A Speed : 13.844000000000001\n",
      "Radian Target :  -0.7853981633974483\n",
      "Degree Target :  -135.0\n"
     ]
    }
   ],
   "source": [
    "import numpy as np\n",
    "import math\n",
    "\n",
    "velFromKinematic = np.zeros((3))\n",
    "\n",
    "def convertVel(robotId, inputVel):\n",
    "    outputVel = np.zeros((3))\n",
    "    if robotId == 1:\n",
    "        if inputVel[0] == 0:\n",
    "            outputVel[0] = 0\n",
    "        else:\n",
    "            outputVel[0] = 355.27 * inputVel[0] - 0.4811\n",
    "\n",
    "        if inputVel[1] == 0:\n",
    "            outputVel[1] = 0\n",
    "        else:\n",
    "            outputVel[1] = 389.51 * inputVel[1] + 0.1839\n",
    "\n",
    "        if inputVel[2] == 0:\n",
    "            outputVel[2] = 0\n",
    "        else:\n",
    "            outputVel[2] = 124.78 * inputVel[2] + 1.366\n",
    "    elif robotId == 3:\t\t\t\t#JIKA ROBOT 1\n",
    "        if inputVel[0] == 0:\t\t\t#JIKA INPUTVEL[0] == 0\n",
    "            outputVel[0] = 0\t\t\t#OUTPUT[0] == 0\n",
    "        else:\t\t\t\t\t\t\t#SELAIN\n",
    "            outputVel[0] = 355.27 * inputVel[0] - 0.4811\t#OUTPUT[0] = RUMUS REGRESI X * INPUT\n",
    "\n",
    "        if inputVel[1] == 0:   \t\t\t#JIKA INPUTVEL[1] == 0\n",
    "            outputVel[1] = 0\t\t\t#OUTPUT[1] == 0\n",
    "        else:\t\t\t\t\t\t\t#SELAIN\n",
    "            outputVel[1] = 389.51 * inputVel[1] + 0.1839\t#OUTPUT[1] = RUMUS REGRESI Y * INPUT\n",
    "\n",
    "        if inputVel[2] == 0:\t\t\t#JIKA INPUTVEL[2] == 0\n",
    "            outputVel[2] = 0\t\t\t#OUTPUT[2] == 0\n",
    "        else:\t\t\t\t\t\t\t#SELAIN\n",
    "            outputVel[2] = 124.78 * inputVel[2] + 1.366\t\t#OUTPUT[2] = RUMUS REGRESI THETHA\n",
    "\n",
    "    elif robotId == 5:\n",
    "        if inputVel[0] == 0:\n",
    "            outputVel[0] = 0\n",
    "        else:\n",
    "            outputVel[0] = 315.95 * inputVel[0] - 0.5579\n",
    "\n",
    "        if inputVel[1] == 0:\n",
    "            outputVel[1] = 0\n",
    "        else:\n",
    "            outputVel[1] = 338.71 * inputVel[1] + 0.9102\n",
    "\n",
    "        if inputVel[2] == 0:\n",
    "            outputVel[2] = 0\n",
    "        else:\n",
    "            outputVel[2] = 131.66 * inputVel[2] + 0.9137\n",
    "    return outputVel\n",
    "\n",
    "def main():        \n",
    "    velFromKinematic[0] = 0.01\n",
    "    velFromKinematic[1] = 0.00\n",
    "    velFromKinematic[2] = 0.1\n",
    "\n",
    "    speed = convertVel(1,velFromKinematic)\n",
    "    print(\"X Speed :\",speed[0])\n",
    "    print(\"Y Speed :\",speed[1])\n",
    "    print(\"A Speed :\",speed[2])\n",
    "\n",
    "    currentPosX = 350 #start Coor X\n",
    "    currentPosY = 350 #start Coor X\n",
    "    targetX = 250 #target coor X\n",
    "    targetY = 450 #target coor Y\n",
    "\n",
    "    myrad = math.atan2(targetX-currentPosX, targetY-currentPosY)\n",
    "    mydeg = math.degrees(myrad) - 90\n",
    "\n",
    "    print(\"Radian Target : \",myrad)\n",
    "    print(\"Degree Target : \",mydeg)\n",
    "    \n",
    "if __name__ == \"__main__\":\n",
    "        main()"
   ]
  },
  {
   "cell_type": "code",
   "execution_count": null,
   "metadata": {},
   "outputs": [],
   "source": []
  },
  {
   "cell_type": "code",
   "execution_count": null,
   "metadata": {},
   "outputs": [],
   "source": []
  },
  {
   "cell_type": "code",
   "execution_count": null,
   "metadata": {},
   "outputs": [],
   "source": []
  }
 ],
 "metadata": {
  "kernelspec": {
   "display_name": "Python 3",
   "language": "python",
   "name": "python3"
  },
  "language_info": {
   "codemirror_mode": {
    "name": "ipython",
    "version": 3
   },
   "file_extension": ".py",
   "mimetype": "text/x-python",
   "name": "python",
   "nbconvert_exporter": "python",
   "pygments_lexer": "ipython3",
   "version": "3.7.4"
  }
 },
 "nbformat": 4,
 "nbformat_minor": 2
}
